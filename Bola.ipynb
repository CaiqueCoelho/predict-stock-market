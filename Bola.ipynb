{
 "cells": [
  {
   "cell_type": "code",
   "execution_count": 39,
   "metadata": {},
   "outputs": [],
   "source": [
    "import pandas as pd\n",
    "%matplotlib inline\n",
    "import matplotlib.pyplot as plt\n",
    "from sklearn.model_selection import train_test_split\n",
    "from sklearn.linear_model import LinearRegression\n",
    "from sklearn.metrics import mean_squared_error"
   ]
  },
  {
   "cell_type": "code",
   "execution_count": null,
   "metadata": {},
   "outputs": [],
   "source": [
    "import plotly.offline as py\n",
    "plotly.offline.init_notebook_mode()"
   ]
  },
  {
   "cell_type": "code",
   "execution_count": 25,
   "metadata": {},
   "outputs": [],
   "source": [
    "dataset = pd.read_csv('magalu08.csv')\n",
    "dataset = dataset.dropna(subset = ['Date', 'Open', 'High', 'Low', 'Close'])"
   ]
  },
  {
   "cell_type": "code",
   "execution_count": 26,
   "metadata": {},
   "outputs": [
    {
     "data": {
      "text/html": [
       "<div>\n",
       "<style scoped>\n",
       "    .dataframe tbody tr th:only-of-type {\n",
       "        vertical-align: middle;\n",
       "    }\n",
       "\n",
       "    .dataframe tbody tr th {\n",
       "        vertical-align: top;\n",
       "    }\n",
       "\n",
       "    .dataframe thead th {\n",
       "        text-align: right;\n",
       "    }\n",
       "</style>\n",
       "<table border=\"1\" class=\"dataframe\">\n",
       "  <thead>\n",
       "    <tr style=\"text-align: right;\">\n",
       "      <th></th>\n",
       "      <th>Date</th>\n",
       "      <th>Open</th>\n",
       "      <th>High</th>\n",
       "      <th>Low</th>\n",
       "      <th>Close</th>\n",
       "      <th>Adj Close</th>\n",
       "      <th>Volume</th>\n",
       "    </tr>\n",
       "  </thead>\n",
       "  <tbody>\n",
       "    <tr>\n",
       "      <th>0</th>\n",
       "      <td>2017-01-09</td>\n",
       "      <td>12.3337</td>\n",
       "      <td>12.3750</td>\n",
       "      <td>11.7712</td>\n",
       "      <td>11.7712</td>\n",
       "      <td>11.210161</td>\n",
       "      <td>932800.0</td>\n",
       "    </tr>\n",
       "    <tr>\n",
       "      <th>1</th>\n",
       "      <td>2017-01-10</td>\n",
       "      <td>11.8250</td>\n",
       "      <td>12.2500</td>\n",
       "      <td>11.8138</td>\n",
       "      <td>12.0513</td>\n",
       "      <td>11.476912</td>\n",
       "      <td>624000.0</td>\n",
       "    </tr>\n",
       "    <tr>\n",
       "      <th>2</th>\n",
       "      <td>2017-01-11</td>\n",
       "      <td>11.9963</td>\n",
       "      <td>12.2875</td>\n",
       "      <td>11.9963</td>\n",
       "      <td>12.1875</td>\n",
       "      <td>11.606620</td>\n",
       "      <td>898400.0</td>\n",
       "    </tr>\n",
       "    <tr>\n",
       "      <th>3</th>\n",
       "      <td>2017-01-12</td>\n",
       "      <td>12.3500</td>\n",
       "      <td>13.0612</td>\n",
       "      <td>12.3212</td>\n",
       "      <td>13.0000</td>\n",
       "      <td>12.380395</td>\n",
       "      <td>1288000.0</td>\n",
       "    </tr>\n",
       "    <tr>\n",
       "      <th>4</th>\n",
       "      <td>2017-01-13</td>\n",
       "      <td>12.9987</td>\n",
       "      <td>13.3600</td>\n",
       "      <td>12.9000</td>\n",
       "      <td>13.2500</td>\n",
       "      <td>12.618479</td>\n",
       "      <td>724000.0</td>\n",
       "    </tr>\n",
       "    <tr>\n",
       "      <th>5</th>\n",
       "      <td>2017-01-16</td>\n",
       "      <td>13.2037</td>\n",
       "      <td>13.2037</td>\n",
       "      <td>12.9087</td>\n",
       "      <td>12.9888</td>\n",
       "      <td>12.369729</td>\n",
       "      <td>595200.0</td>\n",
       "    </tr>\n",
       "    <tr>\n",
       "      <th>6</th>\n",
       "      <td>2017-01-17</td>\n",
       "      <td>13.0000</td>\n",
       "      <td>13.2825</td>\n",
       "      <td>12.9062</td>\n",
       "      <td>13.2500</td>\n",
       "      <td>12.618479</td>\n",
       "      <td>595200.0</td>\n",
       "    </tr>\n",
       "    <tr>\n",
       "      <th>7</th>\n",
       "      <td>2017-01-18</td>\n",
       "      <td>13.2500</td>\n",
       "      <td>13.3737</td>\n",
       "      <td>13.2312</td>\n",
       "      <td>13.3188</td>\n",
       "      <td>12.684001</td>\n",
       "      <td>325600.0</td>\n",
       "    </tr>\n",
       "    <tr>\n",
       "      <th>8</th>\n",
       "      <td>2017-01-19</td>\n",
       "      <td>13.3188</td>\n",
       "      <td>13.4500</td>\n",
       "      <td>13.2075</td>\n",
       "      <td>13.4250</td>\n",
       "      <td>12.785138</td>\n",
       "      <td>480000.0</td>\n",
       "    </tr>\n",
       "    <tr>\n",
       "      <th>9</th>\n",
       "      <td>2017-01-20</td>\n",
       "      <td>13.2950</td>\n",
       "      <td>15.0000</td>\n",
       "      <td>13.2950</td>\n",
       "      <td>14.9875</td>\n",
       "      <td>14.273167</td>\n",
       "      <td>2337600.0</td>\n",
       "    </tr>\n",
       "  </tbody>\n",
       "</table>\n",
       "</div>"
      ],
      "text/plain": [
       "         Date     Open     High      Low    Close  Adj Close     Volume\n",
       "0  2017-01-09  12.3337  12.3750  11.7712  11.7712  11.210161   932800.0\n",
       "1  2017-01-10  11.8250  12.2500  11.8138  12.0513  11.476912   624000.0\n",
       "2  2017-01-11  11.9963  12.2875  11.9963  12.1875  11.606620   898400.0\n",
       "3  2017-01-12  12.3500  13.0612  12.3212  13.0000  12.380395  1288000.0\n",
       "4  2017-01-13  12.9987  13.3600  12.9000  13.2500  12.618479   724000.0\n",
       "5  2017-01-16  13.2037  13.2037  12.9087  12.9888  12.369729   595200.0\n",
       "6  2017-01-17  13.0000  13.2825  12.9062  13.2500  12.618479   595200.0\n",
       "7  2017-01-18  13.2500  13.3737  13.2312  13.3188  12.684001   325600.0\n",
       "8  2017-01-19  13.3188  13.4500  13.2075  13.4250  12.785138   480000.0\n",
       "9  2017-01-20  13.2950  15.0000  13.2950  14.9875  14.273167  2337600.0"
      ]
     },
     "execution_count": 26,
     "metadata": {},
     "output_type": "execute_result"
    }
   ],
   "source": [
    "dataset.head(10)"
   ]
  },
  {
   "cell_type": "code",
   "execution_count": 27,
   "metadata": {},
   "outputs": [],
   "source": [
    "dataset['Date'] = pd.to_datetime(dataset['Date'])"
   ]
  },
  {
   "cell_type": "code",
   "execution_count": 28,
   "metadata": {},
   "outputs": [
    {
     "data": {
      "text/html": [
       "<div>\n",
       "<style scoped>\n",
       "    .dataframe tbody tr th:only-of-type {\n",
       "        vertical-align: middle;\n",
       "    }\n",
       "\n",
       "    .dataframe tbody tr th {\n",
       "        vertical-align: top;\n",
       "    }\n",
       "\n",
       "    .dataframe thead th {\n",
       "        text-align: right;\n",
       "    }\n",
       "</style>\n",
       "<table border=\"1\" class=\"dataframe\">\n",
       "  <thead>\n",
       "    <tr style=\"text-align: right;\">\n",
       "      <th></th>\n",
       "      <th>Open</th>\n",
       "      <th>High</th>\n",
       "      <th>Low</th>\n",
       "      <th>Close</th>\n",
       "      <th>Adj Close</th>\n",
       "      <th>Volume</th>\n",
       "    </tr>\n",
       "  </thead>\n",
       "  <tbody>\n",
       "    <tr>\n",
       "      <th>count</th>\n",
       "      <td>495.000000</td>\n",
       "      <td>495.000000</td>\n",
       "      <td>495.000000</td>\n",
       "      <td>495.000000</td>\n",
       "      <td>495.000000</td>\n",
       "      <td>4.950000e+02</td>\n",
       "    </tr>\n",
       "    <tr>\n",
       "      <th>mean</th>\n",
       "      <td>82.159277</td>\n",
       "      <td>83.821756</td>\n",
       "      <td>80.333269</td>\n",
       "      <td>82.163909</td>\n",
       "      <td>81.660893</td>\n",
       "      <td>1.503212e+06</td>\n",
       "    </tr>\n",
       "    <tr>\n",
       "      <th>std</th>\n",
       "      <td>46.420574</td>\n",
       "      <td>47.125091</td>\n",
       "      <td>45.570398</td>\n",
       "      <td>46.361229</td>\n",
       "      <td>46.445320</td>\n",
       "      <td>1.070363e+06</td>\n",
       "    </tr>\n",
       "    <tr>\n",
       "      <th>min</th>\n",
       "      <td>11.825000</td>\n",
       "      <td>12.250000</td>\n",
       "      <td>11.771200</td>\n",
       "      <td>11.771200</td>\n",
       "      <td>11.210161</td>\n",
       "      <td>0.000000e+00</td>\n",
       "    </tr>\n",
       "    <tr>\n",
       "      <th>25%</th>\n",
       "      <td>35.403099</td>\n",
       "      <td>36.556249</td>\n",
       "      <td>35.039400</td>\n",
       "      <td>36.456850</td>\n",
       "      <td>36.122429</td>\n",
       "      <td>8.588000e+05</td>\n",
       "    </tr>\n",
       "    <tr>\n",
       "      <th>50%</th>\n",
       "      <td>78.699997</td>\n",
       "      <td>80.000000</td>\n",
       "      <td>77.000000</td>\n",
       "      <td>78.599998</td>\n",
       "      <td>78.126709</td>\n",
       "      <td>1.243200e+06</td>\n",
       "    </tr>\n",
       "    <tr>\n",
       "      <th>75%</th>\n",
       "      <td>119.774998</td>\n",
       "      <td>122.545002</td>\n",
       "      <td>117.084999</td>\n",
       "      <td>119.610001</td>\n",
       "      <td>119.218475</td>\n",
       "      <td>1.838650e+06</td>\n",
       "    </tr>\n",
       "    <tr>\n",
       "      <th>max</th>\n",
       "      <td>184.990005</td>\n",
       "      <td>185.990005</td>\n",
       "      <td>179.360001</td>\n",
       "      <td>185.990005</td>\n",
       "      <td>185.990005</td>\n",
       "      <td>1.129010e+07</td>\n",
       "    </tr>\n",
       "  </tbody>\n",
       "</table>\n",
       "</div>"
      ],
      "text/plain": [
       "             Open        High         Low       Close   Adj Close  \\\n",
       "count  495.000000  495.000000  495.000000  495.000000  495.000000   \n",
       "mean    82.159277   83.821756   80.333269   82.163909   81.660893   \n",
       "std     46.420574   47.125091   45.570398   46.361229   46.445320   \n",
       "min     11.825000   12.250000   11.771200   11.771200   11.210161   \n",
       "25%     35.403099   36.556249   35.039400   36.456850   36.122429   \n",
       "50%     78.699997   80.000000   77.000000   78.599998   78.126709   \n",
       "75%    119.774998  122.545002  117.084999  119.610001  119.218475   \n",
       "max    184.990005  185.990005  179.360001  185.990005  185.990005   \n",
       "\n",
       "             Volume  \n",
       "count  4.950000e+02  \n",
       "mean   1.503212e+06  \n",
       "std    1.070363e+06  \n",
       "min    0.000000e+00  \n",
       "25%    8.588000e+05  \n",
       "50%    1.243200e+06  \n",
       "75%    1.838650e+06  \n",
       "max    1.129010e+07  "
      ]
     },
     "execution_count": 28,
     "metadata": {},
     "output_type": "execute_result"
    }
   ],
   "source": [
    "dataset.describe()"
   ]
  },
  {
   "cell_type": "code",
   "execution_count": 29,
   "metadata": {},
   "outputs": [],
   "source": [
    "dataset['Variation'] = dataset['Close'].sub(dataset['Open'])"
   ]
  },
  {
   "cell_type": "code",
   "execution_count": 30,
   "metadata": {},
   "outputs": [
    {
     "data": {
      "text/html": [
       "<div>\n",
       "<style scoped>\n",
       "    .dataframe tbody tr th:only-of-type {\n",
       "        vertical-align: middle;\n",
       "    }\n",
       "\n",
       "    .dataframe tbody tr th {\n",
       "        vertical-align: top;\n",
       "    }\n",
       "\n",
       "    .dataframe thead th {\n",
       "        text-align: right;\n",
       "    }\n",
       "</style>\n",
       "<table border=\"1\" class=\"dataframe\">\n",
       "  <thead>\n",
       "    <tr style=\"text-align: right;\">\n",
       "      <th></th>\n",
       "      <th>Date</th>\n",
       "      <th>Open</th>\n",
       "      <th>High</th>\n",
       "      <th>Low</th>\n",
       "      <th>Close</th>\n",
       "      <th>Adj Close</th>\n",
       "      <th>Volume</th>\n",
       "      <th>Variation</th>\n",
       "    </tr>\n",
       "  </thead>\n",
       "  <tbody>\n",
       "    <tr>\n",
       "      <th>0</th>\n",
       "      <td>2017-01-09</td>\n",
       "      <td>12.3337</td>\n",
       "      <td>12.3750</td>\n",
       "      <td>11.7712</td>\n",
       "      <td>11.7712</td>\n",
       "      <td>11.210161</td>\n",
       "      <td>932800.0</td>\n",
       "      <td>-0.5625</td>\n",
       "    </tr>\n",
       "    <tr>\n",
       "      <th>1</th>\n",
       "      <td>2017-01-10</td>\n",
       "      <td>11.8250</td>\n",
       "      <td>12.2500</td>\n",
       "      <td>11.8138</td>\n",
       "      <td>12.0513</td>\n",
       "      <td>11.476912</td>\n",
       "      <td>624000.0</td>\n",
       "      <td>0.2263</td>\n",
       "    </tr>\n",
       "    <tr>\n",
       "      <th>2</th>\n",
       "      <td>2017-01-11</td>\n",
       "      <td>11.9963</td>\n",
       "      <td>12.2875</td>\n",
       "      <td>11.9963</td>\n",
       "      <td>12.1875</td>\n",
       "      <td>11.606620</td>\n",
       "      <td>898400.0</td>\n",
       "      <td>0.1912</td>\n",
       "    </tr>\n",
       "    <tr>\n",
       "      <th>3</th>\n",
       "      <td>2017-01-12</td>\n",
       "      <td>12.3500</td>\n",
       "      <td>13.0612</td>\n",
       "      <td>12.3212</td>\n",
       "      <td>13.0000</td>\n",
       "      <td>12.380395</td>\n",
       "      <td>1288000.0</td>\n",
       "      <td>0.6500</td>\n",
       "    </tr>\n",
       "    <tr>\n",
       "      <th>4</th>\n",
       "      <td>2017-01-13</td>\n",
       "      <td>12.9987</td>\n",
       "      <td>13.3600</td>\n",
       "      <td>12.9000</td>\n",
       "      <td>13.2500</td>\n",
       "      <td>12.618479</td>\n",
       "      <td>724000.0</td>\n",
       "      <td>0.2513</td>\n",
       "    </tr>\n",
       "  </tbody>\n",
       "</table>\n",
       "</div>"
      ],
      "text/plain": [
       "        Date     Open     High      Low    Close  Adj Close     Volume  \\\n",
       "0 2017-01-09  12.3337  12.3750  11.7712  11.7712  11.210161   932800.0   \n",
       "1 2017-01-10  11.8250  12.2500  11.8138  12.0513  11.476912   624000.0   \n",
       "2 2017-01-11  11.9963  12.2875  11.9963  12.1875  11.606620   898400.0   \n",
       "3 2017-01-12  12.3500  13.0612  12.3212  13.0000  12.380395  1288000.0   \n",
       "4 2017-01-13  12.9987  13.3600  12.9000  13.2500  12.618479   724000.0   \n",
       "\n",
       "   Variation  \n",
       "0    -0.5625  \n",
       "1     0.2263  \n",
       "2     0.1912  \n",
       "3     0.6500  \n",
       "4     0.2513  "
      ]
     },
     "execution_count": 30,
     "metadata": {},
     "output_type": "execute_result"
    }
   ],
   "source": [
    "dataset.head()"
   ]
  },
  {
   "cell_type": "code",
   "execution_count": 31,
   "metadata": {},
   "outputs": [
    {
     "data": {
      "image/png": "[encoded data removed]",
      "text/plain": [
       "<Figure size 432x288 with 1 Axes>"
      ]
     },
     "metadata": {
      "needs_background": "light"
     },
     "output_type": "display_data"
    }
   ],
   "source": [
    "x = dataset['Open']\n",
    "y = dataset['Close']\n",
    "plt.scatter(x,y,color='b')\n",
    "plt.xlabel('preco de abertura')\n",
    "plt.ylabel('preco de fechamento')\n",
    "plt.axis([min(x),max(x),min(y),max(y)])\n",
    "plt.autoscale('False')\n",
    "plt.show()"
   ]
  },
  {
   "cell_type": "code",
   "execution_count": 32,
   "metadata": {},
   "outputs": [],
   "source": [
    "features = ['Open','High','Low','Volume']\n",
    "treino = dataset[features]"
   ]
  },
  {
   "cell_type": "code",
   "execution_count": 33,
   "metadata": {},
   "outputs": [
    {
     "data": {
      "text/html": [
       "<div>\n",
       "<style scoped>\n",
       "    .dataframe tbody tr th:only-of-type {\n",
       "        vertical-align: middle;\n",
       "    }\n",
       "\n",
       "    .dataframe tbody tr th {\n",
       "        vertical-align: top;\n",
       "    }\n",
       "\n",
       "    .dataframe thead th {\n",
       "        text-align: right;\n",
       "    }\n",
       "</style>\n",
       "<table border=\"1\" class=\"dataframe\">\n",
       "  <thead>\n",
       "    <tr style=\"text-align: right;\">\n",
       "      <th></th>\n",
       "      <th>Open</th>\n",
       "      <th>High</th>\n",
       "      <th>Low</th>\n",
       "      <th>Volume</th>\n",
       "    </tr>\n",
       "  </thead>\n",
       "  <tbody>\n",
       "    <tr>\n",
       "      <th>0</th>\n",
       "      <td>12.3337</td>\n",
       "      <td>12.3750</td>\n",
       "      <td>11.7712</td>\n",
       "      <td>932800.0</td>\n",
       "    </tr>\n",
       "    <tr>\n",
       "      <th>1</th>\n",
       "      <td>11.8250</td>\n",
       "      <td>12.2500</td>\n",
       "      <td>11.8138</td>\n",
       "      <td>624000.0</td>\n",
       "    </tr>\n",
       "    <tr>\n",
       "      <th>2</th>\n",
       "      <td>11.9963</td>\n",
       "      <td>12.2875</td>\n",
       "      <td>11.9963</td>\n",
       "      <td>898400.0</td>\n",
       "    </tr>\n",
       "    <tr>\n",
       "      <th>3</th>\n",
       "      <td>12.3500</td>\n",
       "      <td>13.0612</td>\n",
       "      <td>12.3212</td>\n",
       "      <td>1288000.0</td>\n",
       "    </tr>\n",
       "    <tr>\n",
       "      <th>4</th>\n",
       "      <td>12.9987</td>\n",
       "      <td>13.3600</td>\n",
       "      <td>12.9000</td>\n",
       "      <td>724000.0</td>\n",
       "    </tr>\n",
       "  </tbody>\n",
       "</table>\n",
       "</div>"
      ],
      "text/plain": [
       "      Open     High      Low     Volume\n",
       "0  12.3337  12.3750  11.7712   932800.0\n",
       "1  11.8250  12.2500  11.8138   624000.0\n",
       "2  11.9963  12.2875  11.9963   898400.0\n",
       "3  12.3500  13.0612  12.3212  1288000.0\n",
       "4  12.9987  13.3600  12.9000   724000.0"
      ]
     },
     "execution_count": 33,
     "metadata": {},
     "output_type": "execute_result"
    }
   ],
   "source": [
    "treino.head()"
   ]
  },
  {
   "cell_type": "code",
   "execution_count": 34,
   "metadata": {},
   "outputs": [],
   "source": [
    "y = dataset['Close']"
   ]
  },
  {
   "cell_type": "code",
   "execution_count": 35,
   "metadata": {},
   "outputs": [],
   "source": [
    "X_treino, X_teste, y_treino, y_teste = train_test_split(treino, y, random_state=42)"
   ]
  },
  {
   "cell_type": "code",
   "execution_count": 36,
   "metadata": {},
   "outputs": [],
   "source": [
    "lr_model = LinearRegression()"
   ]
  },
  {
   "cell_type": "code",
   "execution_count": 37,
   "metadata": {},
   "outputs": [
    {
     "data": {
      "text/plain": [
       "LinearRegression(copy_X=True, fit_intercept=True, n_jobs=None,\n",
       "         normalize=False)"
      ]
     },
     "execution_count": 37,
     "metadata": {},
     "output_type": "execute_result"
    }
   ],
   "source": [
    "lr_model.fit(X_treino,y_treino)"
   ]
  },
  {
   "cell_type": "code",
   "execution_count": 40,
   "metadata": {},
   "outputs": [
    {
     "data": {
      "text/plain": [
       "1.2018194557555097"
      ]
     },
     "execution_count": 40,
     "metadata": {},
     "output_type": "execute_result"
    }
   ],
   "source": [
    "RMSE = mean_squared_error(y_teste, lr_model.predict(X_teste))**0.5\n",
    "RMSE"
   ]
  },
  {
   "cell_type": "code",
   "execution_count": 42,
   "metadata": {},
   "outputs": [
    {
     "data": {
      "text/plain": [
       "170.9348254069235"
      ]
     },
     "execution_count": 42,
     "metadata": {},
     "output_type": "execute_result"
    }
   ],
   "source": [
    "lr_model.predict(X_teste)[0]"
   ]
  },
  {
   "cell_type": "code",
   "execution_count": 46,
   "metadata": {},
   "outputs": [
    {
     "data": {
      "text/html": [
       "<div>\n",
       "<style scoped>\n",
       "    .dataframe tbody tr th:only-of-type {\n",
       "        vertical-align: middle;\n",
       "    }\n",
       "\n",
       "    .dataframe tbody tr th {\n",
       "        vertical-align: top;\n",
       "    }\n",
       "\n",
       "    .dataframe thead th {\n",
       "        text-align: right;\n",
       "    }\n",
       "</style>\n",
       "<table border=\"1\" class=\"dataframe\">\n",
       "  <thead>\n",
       "    <tr style=\"text-align: right;\">\n",
       "      <th></th>\n",
       "      <th>Open</th>\n",
       "      <th>High</th>\n",
       "      <th>Low</th>\n",
       "      <th>Volume</th>\n",
       "    </tr>\n",
       "  </thead>\n",
       "  <tbody>\n",
       "    <tr>\n",
       "      <th>459</th>\n",
       "      <td>170.300003</td>\n",
       "      <td>173.250000</td>\n",
       "      <td>168.250000</td>\n",
       "      <td>1360600.0</td>\n",
       "    </tr>\n",
       "    <tr>\n",
       "      <th>73</th>\n",
       "      <td>26.497499</td>\n",
       "      <td>27.747499</td>\n",
       "      <td>26.497499</td>\n",
       "      <td>1780000.0</td>\n",
       "    </tr>\n",
       "    <tr>\n",
       "      <th>310</th>\n",
       "      <td>98.500000</td>\n",
       "      <td>99.900002</td>\n",
       "      <td>96.940002</td>\n",
       "      <td>1273400.0</td>\n",
       "    </tr>\n",
       "    <tr>\n",
       "      <th>175</th>\n",
       "      <td>80.500000</td>\n",
       "      <td>83.260002</td>\n",
       "      <td>78.519997</td>\n",
       "      <td>1806800.0</td>\n",
       "    </tr>\n",
       "    <tr>\n",
       "      <th>333</th>\n",
       "      <td>98.000000</td>\n",
       "      <td>99.989998</td>\n",
       "      <td>95.699997</td>\n",
       "      <td>1932900.0</td>\n",
       "    </tr>\n",
       "  </tbody>\n",
       "</table>\n",
       "</div>"
      ],
      "text/plain": [
       "           Open        High         Low     Volume\n",
       "459  170.300003  173.250000  168.250000  1360600.0\n",
       "73    26.497499   27.747499   26.497499  1780000.0\n",
       "310   98.500000   99.900002   96.940002  1273400.0\n",
       "175   80.500000   83.260002   78.519997  1806800.0\n",
       "333   98.000000   99.989998   95.699997  1932900.0"
      ]
     },
     "execution_count": 46,
     "metadata": {},
     "output_type": "execute_result"
    }
   ],
   "source": [
    "X_teste.head()"
   ]
  },
  {
   "cell_type": "code",
   "execution_count": null,
   "metadata": {},
   "outputs": [],
   "source": []
  }
 ],
 "metadata": {
  "kernelspec": {
   "display_name": "Python 3",
   "language": "python",
   "name": "python3"
  }
 },
 "nbformat": 4,
 "nbformat_minor": 2
}
